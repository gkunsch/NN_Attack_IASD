{
 "cells": [
  {
   "attachments": {},
   "cell_type": "markdown",
   "metadata": {},
   "source": [
    "# Adversarial attacks project Benjamin"
   ]
  },
  {
   "cell_type": "code",
   "execution_count": 59,
   "metadata": {},
   "outputs": [
    {
     "name": "stdout",
     "output_type": "stream",
     "text": [
      "The autoreload extension is already loaded. To reload it, use:\n",
      "  %reload_ext autoreload\n"
     ]
    }
   ],
   "source": [
    "from attacks import compute_grad_finite_diff, compute_gradient, batch_pgd_attack\n",
    "from test_project import test_PGD_attacked_accuracy\n",
    "from settings import PGD_NB_ITERS, PGD_STEPSIZE, PGD_EPS\n",
    "from CIFARLoader import CIFAR_Loader\n",
    "from model import Net\n",
    "import torch.nn as nn\n",
    "import numpy as np\n",
    "import torch\n",
    "import matplotlib.pyplot as plt\n",
    "%load_ext autoreload\n",
    "%autoreload 2"
   ]
  },
  {
   "cell_type": "code",
   "execution_count": 4,
   "metadata": {},
   "outputs": [
    {
     "data": {
      "text/plain": [
       "0.6375000000000001"
      ]
     },
     "execution_count": 4,
     "metadata": {},
     "output_type": "execute_result"
    }
   ],
   "source": [
    "# for PGD, optimal tau:\n",
    "eps = 1e-2\n",
    "n_it = 40\n",
    "eps*255/4\n"
   ]
  },
  {
   "cell_type": "code",
   "execution_count": 29,
   "metadata": {},
   "outputs": [],
   "source": [
    "device = \"mps\"\n",
    "net = Net()\n",
    "net.load(\"./models/default_model.pth\")\n",
    "_=net.to(device)"
   ]
  },
  {
   "cell_type": "code",
   "execution_count": 39,
   "metadata": {},
   "outputs": [
    {
     "name": "stdout",
     "output_type": "stream",
     "text": [
      "Files already downloaded and verified\n",
      "Files already downloaded and verified\n",
      "torch.Size([32, 3, 32, 32])\n",
      "torch.Size([32, 3, 32, 32])\n",
      "torch.Size([32, 3, 32, 32])\n"
     ]
    }
   ],
   "source": [
    "data_loader = CIFAR_Loader(batch_size=32,train_eval_frac=0.9,root_folder=\"data\")\n",
    "test_loader = data_loader.get_test_loader()\n",
    "train_loader, validation_loader = data_loader.get_train_eval_loaders()\n",
    "train_dataset, validation_dataset = data_loader.get_train_eval_datasets()\n",
    "\n",
    "im, lab = next(iter(validation_loader))\n",
    "print(im.shape)\n",
    "im, lab = next(iter(test_loader))\n",
    "print(im.shape)\n",
    "im, lab = next(iter(train_loader))\n",
    "print(im.shape)\n"
   ]
  },
  {
   "cell_type": "code",
   "execution_count": 52,
   "metadata": {},
   "outputs": [
    {
     "name": "stdout",
     "output_type": "stream",
     "text": [
      "1407 313 157\n"
     ]
    }
   ],
   "source": [
    "print(len(train_loader),len(test_loader),len(validation_loader))"
   ]
  },
  {
   "cell_type": "code",
   "execution_count": 34,
   "metadata": {},
   "outputs": [
    {
     "name": "stderr",
     "output_type": "stream",
     "text": [
      "Testing PGD mode: 100%|██████████| 157/157 [00:35<00:00,  4.47it/s]\n"
     ]
    },
    {
     "data": {
      "text/plain": [
       "70.82"
      ]
     },
     "execution_count": 34,
     "metadata": {},
     "output_type": "execute_result"
    }
   ],
   "source": [
    "test_PGD_attacked_accuracy(net, test_loader=validation_loader,\n",
    "                                                device=device,iters=40,eps=1e-3,step_size=2/255,num_samples=1)"
   ]
  },
  {
   "cell_type": "code",
   "execution_count": 15,
   "metadata": {},
   "outputs": [
    {
     "data": {
      "text/plain": [
       "torch.Size([3, 32, 32])"
      ]
     },
     "execution_count": 15,
     "metadata": {},
     "output_type": "execute_result"
    }
   ],
   "source": [
    "im.shape"
   ]
  },
  {
   "cell_type": "code",
   "execution_count": 50,
   "metadata": {},
   "outputs": [
    {
     "data": {
      "text/plain": [
       "torch.Size([32, 3, 32, 32])"
      ]
     },
     "execution_count": 50,
     "metadata": {},
     "output_type": "execute_result"
    }
   ],
   "source": [
    "for x, e in test_loader:\n",
    "    break\n",
    "x.shape"
   ]
  },
  {
   "cell_type": "code",
   "execution_count": 51,
   "metadata": {},
   "outputs": [
    {
     "name": "stderr",
     "output_type": "stream",
     "text": [
      "100%|██████████| 313/313 [00:53<00:00,  5.85it/s]\n"
     ]
    }
   ],
   "source": [
    "acc_pgd = test_PGD_attacked_accuracy(net, test_loader=test_loader,\n",
    "                                                device=device,iters=PGD_NB_ITERS,eps=PGD_EPS,\n",
    "                                                step_size=PGD_STEPSIZE,num_samples=1)"
   ]
  },
  {
   "attachments": {},
   "cell_type": "markdown",
   "metadata": {},
   "source": [
    "## Testing finite difference method vs FGSM"
   ]
  },
  {
   "cell_type": "code",
   "execution_count": 4,
   "metadata": {},
   "outputs": [],
   "source": [
    "images_labels = next(iter(test_loader))\n",
    "images, labels = images_labels\n",
    "first_image = images[0].to(device).reshape(1,3,32,32)\n",
    "first_label = labels[0].to(device).reshape(1)\n",
    "\n",
    "loss_function = nn.NLLLoss()"
   ]
  },
  {
   "cell_type": "code",
   "execution_count": 94,
   "metadata": {},
   "outputs": [
    {
     "name": "stdout",
     "output_type": "stream",
     "text": [
      "Norm for 0.1: 0.12181761115789413\n",
      "Norm for 0.01: 0.023822780698537827\n",
      "Norm for 0.001: 0.006962349638342857\n",
      "Norm for 0.0001: 0.0668950006365776\n",
      "Norm for 1e-05: 0.6812933683395386\n",
      "Norm for 1e-06: 5.581231594085693\n",
      "Norm for 1e-07: 36.95890808105469\n",
      "Norm for 1e-08: 76.81218719482422\n",
      "Norm for 1e-09: 0.8057678937911987\n",
      "Norm for 1e-10: 0.8057678937911987\n",
      "Norm for 1e-11: 0.8057678937911987\n",
      "Norm for 1e-12: 0.8057678937911987\n",
      "Norm for 1e-13: 0.8057678937911987\n",
      "Norm for 1e-14: 0.8057678937911987\n"
     ]
    }
   ],
   "source": [
    "gradient = compute_gradient(net, loss_function=loss_function,\n",
    "    input_images = first_image,target = first_label )\n",
    "\n",
    "norms=[]\n",
    "for k in range(1,15):\n",
    "    eps = 10**(-k)\n",
    "    finite_grad =  compute_grad_finite_diff(net, single_image = first_image, label= first_label, loss=loss_function,\n",
    "                            device = device,finite_epsilon=eps)\n",
    "    norm = torch.norm(gradient-finite_grad).item()\n",
    "    print(f\"Norm for {eps}: {norm}\")\n",
    "    norms.append(norm)"
   ]
  },
  {
   "cell_type": "code",
   "execution_count": 95,
   "metadata": {},
   "outputs": [
    {
     "data": {
      "text/plain": [
       "[<matplotlib.lines.Line2D at 0x314c63c10>]"
      ]
     },
     "execution_count": 95,
     "metadata": {},
     "output_type": "execute_result"
    },
    {
     "data": {
      "image/png": "[encoded data removed]",
      "text/plain": [
       "<Figure size 432x288 with 1 Axes>"
      ]
     },
     "metadata": {
      "needs_background": "light"
     },
     "output_type": "display_data"
    }
   ],
   "source": [
    "plt.plot(norms)"
   ]
  },
  {
   "cell_type": "code",
   "execution_count": 82,
   "metadata": {},
   "outputs": [
    {
     "name": "stdout",
     "output_type": "stream",
     "text": [
      "Norm for 1e-05: 0.6812933683395386\n"
     ]
    }
   ],
   "source": [
    "eps = 1e-5\n",
    "finite_grad =  compute_grad_finite_diff(net, single_image = first_image, label= first_label, loss=loss_function,\n",
    "                        device = device,finite_epsilon=eps)\n",
    "print(f\"Norm for {eps}: {torch.norm(gradient-finite_grad).item()}\")"
   ]
  },
  {
   "cell_type": "code",
   "execution_count": 89,
   "metadata": {},
   "outputs": [],
   "source": [
    "e = gradient.max().item()-gradient.min().item()"
   ]
  },
  {
   "cell_type": "code",
   "execution_count": 90,
   "metadata": {},
   "outputs": [
    {
     "name": "stderr",
     "output_type": "stream",
     "text": [
      "Clipping input data to the valid range for imshow with RGB data ([0..1] for floats or [0..255] for integers).\n",
      "Clipping input data to the valid range for imshow with RGB data ([0..1] for floats or [0..255] for integers).\n"
     ]
    },
    {
     "data": {
      "text/plain": [
       "<matplotlib.image.AxesImage at 0x2fb89ba30>"
      ]
     },
     "execution_count": 90,
     "metadata": {},
     "output_type": "execute_result"
    },
    {
     "data": {
      "image/png": "[encoded data removed]",
      "text/plain": [
       "<Figure size 432x288 with 2 Axes>"
      ]
     },
     "metadata": {
      "needs_background": "light"
     },
     "output_type": "display_data"
    }
   ],
   "source": [
    "import matplotlib.pyplot as plt\n",
    "\n",
    "fig,ax = plt.subplots(1,2)\n",
    "ax = ax.ravel()\n",
    "ax[0].imshow(gradient.detach().cpu().reshape(3,32,32).permute(1,2,0).numpy()/e)\n",
    "ax[1].imshow(finite_grad.detach().cpu().reshape(3,32,32).permute(1,2,0).numpy()/e)\n"
   ]
  },
  {
   "cell_type": "code",
   "execution_count": 84,
   "metadata": {},
   "outputs": [
    {
     "name": "stdout",
     "output_type": "stream",
     "text": [
      "0.06721653044223785 -0.10195200890302658\n",
      "0.06556511670351028 -0.1251697689294815\n"
     ]
    }
   ],
   "source": [
    "print(gradient.max().item(),gradient.min().item())\n",
    "print(finite_grad.max().item(),finite_grad.min().item())"
   ]
  },
  {
   "attachments": {},
   "cell_type": "markdown",
   "metadata": {},
   "source": [
    "PLotting the evolution of the accuracies while training with robustness to PGD"
   ]
  },
  {
   "cell_type": "code",
   "execution_count": 71,
   "metadata": {},
   "outputs": [],
   "source": [
    "comb_train_loss = [\n",
    "    1.2340,\n",
    "1.6815,\n",
    "1.3529,\n",
    "1.5825,\n",
    "0.8666,\n",
    "0.7937,\n",
    "1.0152,\n",
    "1.1246,\n",
    "1.1110,\n",
    "0.3785,\n",
    "1.5416,\n",
    "0.9500,\n",
    "1.0007,\n",
    "0.8872,\n",
    "0.5661,\n",
    "0.8527,\n",
    "0.7232,\n",
    "0.4909,\n",
    "1.0321,\n",
    "0.5132\n",
    "]\n",
    "\n",
    "com_eval_loss=[\n",
    "    1.5622,\n",
    "    1.4612,\n",
    "    1.3385,\n",
    "    1.3738,\n",
    "    1.2667,\n",
    "    1.2212,\n",
    "    1.2161,\n",
    "    1.1961,\n",
    "    1.1807,\n",
    "    1.1574,\n",
    "    1.1509,\n",
    "    1.1312,\n",
    "    1.1579,\n",
    "    1.1225,\n",
    "    1.1460,\n",
    "    1.1316,\n",
    "    1.1004,\n",
    "    1.0972,\n",
    "    1.1114,\n",
    "1.1295\n",
    "]\n",
    "\n",
    "eval_accuracy = [\n",
    "43.1,47.0,51.7,51.0,54.1,56.7,56.8,57.1,57.8,59.4,59.8,60.2,59.2,60.7,59.8,60.4,61.2,61.0,61.0,61.4\n",
    "\n",
    "]\n",
    "\n",
    "pgd_accuracy = [\n",
    "   39.7,42.94,45.08,44.04,45.7,47.52,47.28,48.66,48.28,48.46,47.62,47.96,48.06,48.14,46.56,48.76,49.3,49.58,49.32,47.96\n",
    "   ]"
   ]
  },
  {
   "cell_type": "code",
   "execution_count": 85,
   "metadata": {},
   "outputs": [
    {
     "data": {
      "image/png": "[encoded data removed]",
      "text/plain": [
       "<Figure size 864x360 with 2 Axes>"
      ]
     },
     "metadata": {
      "needs_background": "light"
     },
     "output_type": "display_data"
    }
   ],
   "source": [
    "x = range(len(com_eval_loss))\n",
    "fig, axs = plt.subplots(1,2,layout = 'tight',figsize=(12, 5))\n",
    "axs[0].plot(x,comb_train_loss, label = 'Train')\n",
    "axs[0].plot(x,com_eval_loss, label = 'Evaluation')\n",
    "axs[1].plot(x,eval_accuracy, label = 'Natural images')\n",
    "axs[1].plot(x,pgd_accuracy, label = 'PGD attacked images')\n",
    "axs[0].set_xlabel(\"#epochs\")\n",
    "axs[0].set_ylabel(\"loss\")\n",
    "axs[1].set_xlabel(\"#epochs\")\n",
    "axs[1].set_ylabel(\"accuracy\")\n",
    "axs[0].legend()\n",
    "axs[0].set_title(\"Loss evolution\")\n",
    "axs[1].set_title(\"Accuracy evolution\")\n",
    "axs[1].legend()\n",
    "plt.savefig(\"Robust to PGD train.png\")"
   ]
  },
  {
   "cell_type": "code",
   "execution_count": null,
   "metadata": {},
   "outputs": [],
   "source": []
  }
 ],
 "metadata": {
  "kernelspec": {
   "display_name": "torch-gpu",
   "language": "python",
   "name": "python3"
  },
  "language_info": {
   "codemirror_mode": {
    "name": "ipython",
    "version": 3
   },
   "file_extension": ".py",
   "mimetype": "text/x-python",
   "name": "python",
   "nbconvert_exporter": "python",
   "pygments_lexer": "ipython3",
   "version": "3.8.13"
  },
  "orig_nbformat": 4,
  "vscode": {
   "interpreter": {
    "hash": "ce4081ce2b9ab9ecfe855a4e9c840ae25394b5d73782b2027cad0c1ddfa0aa02"
   }
  }
 },
 "nbformat": 4,
 "nbformat_minor": 2
}
